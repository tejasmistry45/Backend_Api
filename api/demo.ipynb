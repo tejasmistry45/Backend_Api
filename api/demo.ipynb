{
 "cells": [
  {
   "cell_type": "code",
   "execution_count": null,
   "id": "8fb24dca",
   "metadata": {},
   "outputs": [
    {
     "name": "stdout",
     "output_type": "stream",
     "text": [
      "0: 2A836997-15AA-4FE2-0763-08DCA63D0E23\n",
      "1: 3C2709FE-D1A9-42C9-0762-08DCA63D0E23\n",
      "2: 5A1F261C-7F99-4E63-0764-08DCA63D0E23\n",
      "3: C06945CB-5177-4D85-DCCC-08DC732E6CD4\n",
      "4: A47A1465-80D9-4942-DCCD-08DC732E6CD4\n",
      "5: C06945CB-5177-4D85-DCCC-08DC732E6CD4\n"
     ]
    }
   ],
   "source": [
    "import numpy as np\n",
    "\n",
    "# Load the .npy file\n",
    "resume_ids = np.load('E:/Machine Learning/backend/embeddings/resume_ids.npy', allow_pickle=True)\n",
    "\n",
    "# Convert to list (optional but convenient)\n",
    "resume_ids = resume_ids.tolist()\n",
    "\n",
    "# Print the contents\n",
    "for idx, resume_id in enumerate(resume_ids):\n",
    "    print(f\"{idx}: {resume_id}\")"
   ]
  },
  {
   "cell_type": "code",
   "execution_count": 6,
   "id": "dcfe56ab",
   "metadata": {},
   "outputs": [
    {
     "name": "stdout",
     "output_type": "stream",
     "text": [
      "Total number of vectors in the index: 7\n",
      "Embedding dimension: 768\n",
      "Top 5 most similar vectors to the query embedding:\n",
      "Rank 1: Index = 4, Distance = 249.9974365234375\n",
      "Rank 2: Index = 5, Distance = 249.9974365234375\n",
      "Rank 3: Index = 2, Distance = 250.3028564453125\n",
      "Rank 4: Index = 0, Distance = 250.3887481689453\n",
      "Rank 5: Index = 3, Distance = 250.3887481689453\n"
     ]
    }
   ],
   "source": [
    "import faiss\n",
    "import numpy as np\n",
    "\n",
    "# Load the FAISS index\n",
    "index = faiss.read_index('E:/Machine Learning/backend/embeddings/faiss_index_file.index')\n",
    "\n",
    "# Get the number of vectors in the index\n",
    "num_vectors = index.ntotal\n",
    "print(f\"Total number of vectors in the index: {num_vectors}\")\n",
    "\n",
    "# Optionally, get the dimensions of the embeddings (i.e., number of features)\n",
    "embedding_dimension = index.d\n",
    "print(f\"Embedding dimension: {embedding_dimension}\")\n",
    "\n",
    "# You can also perform a similarity search on the index:\n",
    "query_embedding = np.random.random((666, embedding_dimension)).astype('float32') \n",
    "k = 5  \n",
    "distances, indices = index.search(query_embedding, k)\n",
    "\n",
    "# Print the results (top-k similar resume IDs or indices)\n",
    "print(f\"Top {k} most similar vectors to the query embedding:\")\n",
    "for i in range(k):\n",
    "    print(f\"Rank {i+1}: Index = {indices[0][i]}, Distance = {distances[0][i]}\")\n"
   ]
  },
  {
   "cell_type": "code",
   "execution_count": null,
   "id": "46ccb2c2",
   "metadata": {},
   "outputs": [],
   "source": []
  }
 ],
 "metadata": {
  "kernelspec": {
   "display_name": ".venv",
   "language": "python",
   "name": "python3"
  },
  "language_info": {
   "codemirror_mode": {
    "name": "ipython",
    "version": 3
   },
   "file_extension": ".py",
   "mimetype": "text/x-python",
   "name": "python",
   "nbconvert_exporter": "python",
   "pygments_lexer": "ipython3",
   "version": "3.13.3"
  }
 },
 "nbformat": 4,
 "nbformat_minor": 5
}
