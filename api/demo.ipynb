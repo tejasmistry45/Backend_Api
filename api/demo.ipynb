{
 "cells": [
  {
   "cell_type": "code",
   "execution_count": 5,
   "id": "8fb24dca",
   "metadata": {},
   "outputs": [
    {
     "name": "stdout",
     "output_type": "stream",
     "text": [
      "0: 30053\n",
      "1: 30054\n",
      "2: 30055\n",
      "3: 30056\n",
      "4: 30057\n",
      "5: 30058\n",
      "6: 30059\n"
     ]
    }
   ],
   "source": [
    "import numpy as np\n",
    "\n",
    "# Load the .npy file\n",
    "resume_ids = np.load('E:/Machine Learning/backend/embeddings/resume_ids.npy', allow_pickle=True)\n",
    "\n",
    "# Convert to list (optional but convenient)\n",
    "resume_ids = resume_ids.tolist()\n",
    "\n",
    "# Print the contents\n",
    "for idx, resume_id in enumerate(resume_ids):\n",
    "    print(f\"{idx}: {resume_id}\")"
   ]
  },
  {
   "cell_type": "code",
   "execution_count": null,
   "id": "dcfe56ab",
   "metadata": {},
   "outputs": [],
   "source": []
  }
 ],
 "metadata": {
  "kernelspec": {
   "display_name": ".venv",
   "language": "python",
   "name": "python3"
  },
  "language_info": {
   "codemirror_mode": {
    "name": "ipython",
    "version": 3
   },
   "file_extension": ".py",
   "mimetype": "text/x-python",
   "name": "python",
   "nbconvert_exporter": "python",
   "pygments_lexer": "ipython3",
   "version": "3.13.3"
  }
 },
 "nbformat": 4,
 "nbformat_minor": 5
}
